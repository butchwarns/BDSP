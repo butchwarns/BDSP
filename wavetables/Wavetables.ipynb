{
 "cells": [
  {
   "cell_type": "code",
   "execution_count": 2,
   "id": "616ab28b",
   "metadata": {},
   "outputs": [],
   "source": [
    "import numpy as np\n",
    "import matplotlib.pyplot as plt"
   ]
  },
  {
   "cell_type": "code",
   "execution_count": null,
   "id": "a95ea3d2",
   "metadata": {},
   "outputs": [],
   "source": [
    "exp = 12 # 2**12 = 4096\n",
    "table_len = 2**exp\n",
    "\n",
    "t = np.linspace(0.0, 1.0, table_len)\n",
    "\n",
    "sine_table = np.sin(2.0 * np.pi * t)\n",
    "    \n",
    "plt.plot(t * table_len, sine_table)\n",
    "plt.grid()"
   ]
  },
  {
   "cell_type": "code",
   "execution_count": null,
   "id": "095e4c9d",
   "metadata": {},
   "outputs": [],
   "source": [
    "file_path = f'sine{table_len}.h'\n",
    "\n",
    "with open(file_path, 'w') as fp:\n",
    "    fp.write(f'#ifndef __SINE_{table_len}_H__\\n')\n",
    "    fp.write(f'#define __SINE_{table_len}_H__\\n')\n",
    "    fp.write('\\n')\n",
    "    fp.write(f'#define SINE{table_len}_LEN {table_len} // 2^{exp}\\n')\n",
    "    fp.write('\\n')\n",
    "    fp.write(f'const float sine{table_len}[{table_len}] = {{\\n')\n",
    "    for x in sine_table:\n",
    "        fp.write(f'    {x},\\n')\n",
    "    fp.write('};\\n')\n",
    "    fp.write('\\n')\n",
    "    fp.write(f'#endif // __SINE_{table_len}_H__\\n')"
   ]
  },
  {
   "cell_type": "code",
   "execution_count": null,
   "id": "c585041a",
   "metadata": {},
   "outputs": [],
   "source": []
  }
 ],
 "metadata": {
  "kernelspec": {
   "display_name": "Python 3 (ipykernel)",
   "language": "python",
   "name": "python3"
  },
  "language_info": {
   "codemirror_mode": {
    "name": "ipython",
    "version": 3
   },
   "file_extension": ".py",
   "mimetype": "text/x-python",
   "name": "python",
   "nbconvert_exporter": "python",
   "pygments_lexer": "ipython3",
   "version": "3.8.8"
  }
 },
 "nbformat": 4,
 "nbformat_minor": 5
}
